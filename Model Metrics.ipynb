{
 "cells": [
  {
   "cell_type": "code",
   "execution_count": 1,
   "id": "8559ca26",
   "metadata": {},
   "outputs": [],
   "source": [
    "import requests\n",
    "import cohere\n",
    "from transformers import GPT2LMHeadModel, GPT2Tokenizer\n",
    "import openai\n",
    "import nltk\n",
    "from textblob import TextBlob\n",
    "from nltk.tokenize import word_tokenize, sent_tokenize\n",
    "import torch"
   ]
  },
  {
   "cell_type": "code",
   "execution_count": 18,
   "id": "b894a9dd",
   "metadata": {},
   "outputs": [],
   "source": [
    "import pyphen"
   ]
  },
  {
   "cell_type": "code",
   "execution_count": 19,
   "id": "78bd4aa2",
   "metadata": {},
   "outputs": [],
   "source": [
    "dic = pyphen.Pyphen(lang='en')"
   ]
  },
  {
   "cell_type": "code",
   "execution_count": 2,
   "id": "14eeb38a",
   "metadata": {},
   "outputs": [
    {
     "name": "stderr",
     "output_type": "stream",
     "text": [
      "[nltk_data] Downloading package punkt to\n",
      "[nltk_data]     /Users/manasverma/nltk_data...\n",
      "[nltk_data]   Package punkt is already up-to-date!\n"
     ]
    },
    {
     "data": {
      "text/plain": [
       "True"
      ]
     },
     "execution_count": 2,
     "metadata": {},
     "output_type": "execute_result"
    }
   ],
   "source": [
    "nltk.download('punkt')"
   ]
  },
  {
   "cell_type": "code",
   "execution_count": 16,
   "id": "3a5730cb",
   "metadata": {},
   "outputs": [
    {
     "name": "stderr",
     "output_type": "stream",
     "text": [
      "[nltk_data] Downloading package words to\n",
      "[nltk_data]     /Users/manasverma/nltk_data...\n",
      "[nltk_data]   Unzipping corpora/words.zip.\n"
     ]
    },
    {
     "data": {
      "text/plain": [
       "True"
      ]
     },
     "execution_count": 16,
     "metadata": {},
     "output_type": "execute_result"
    }
   ],
   "source": [
    "nltk.download('words')"
   ]
  },
  {
   "cell_type": "code",
   "execution_count": 3,
   "id": "2097b977",
   "metadata": {},
   "outputs": [],
   "source": [
    "# API keys\n",
    "ai21_api_key = 'your-api-key'\n",
    "cohere_api_key = 'your-api-key'\n",
    "huggingface_api_key = 'your-api-key'\n",
    "openai_api_key = 'your-api-key'"
   ]
  },
  {
   "cell_type": "code",
   "execution_count": 4,
   "id": "1b7a7e53",
   "metadata": {},
   "outputs": [],
   "source": [
    "def generate_text_ai21(prompt):\n",
    "    url = \"https://api.ai21.com/studio/v1/j2-light/complete\"\n",
    "    headers = {\n",
    "        \"Authorization\": f\"Bearer {ai21_api_key}\",\n",
    "        \"Content-Type\": \"application/json\"\n",
    "    }\n",
    "    data = {\n",
    "        \"prompt\": prompt,\n",
    "        \"numResults\": 1,\n",
    "        \"maxTokens\": 50,\n",
    "        \"temperature\": 0.7,\n",
    "        \"topKReturn\": 0,\n",
    "        \"topP\": 1,\n",
    "        \"stopSequences\": []\n",
    "    }\n",
    "    response = requests.post(url, headers=headers, json=data)\n",
    "    result = response.json()\n",
    "    return result['completions'][0]['data']['text']"
   ]
  },
  {
   "cell_type": "code",
   "execution_count": 5,
   "id": "b8249f2e",
   "metadata": {},
   "outputs": [],
   "source": [
    "def generate_text_cohere(prompt):\n",
    "    co = cohere.Client(cohere_api_key)\n",
    "    response = co.generate(\n",
    "        model='command-xlarge-nightly',\n",
    "        prompt=prompt,\n",
    "        max_tokens=50,\n",
    "        temperature=0.7,\n",
    "        k=0,\n",
    "        p=1,\n",
    "        stop_sequences=[]\n",
    "    )\n",
    "    return response.generations[0].text.strip()"
   ]
  },
  {
   "cell_type": "code",
   "execution_count": 6,
   "id": "5f2a8f20",
   "metadata": {},
   "outputs": [],
   "source": [
    "def generate_text_huggingface(prompt):\n",
    "    model = GPT2LMHeadModel.from_pretrained('gpt2')\n",
    "    tokenizer = GPT2Tokenizer.from_pretrained('gpt2')\n",
    "\n",
    "    tokenizer.pad_token = tokenizer.eos_token\n",
    "\n",
    "    inputs = tokenizer(prompt, return_tensors='pt', padding=True, truncation=True)\n",
    "    input_ids = inputs['input_ids']\n",
    "    attention_mask = inputs['attention_mask']\n",
    "\n",
    "    outputs = model.generate(\n",
    "        input_ids=input_ids,\n",
    "        attention_mask=attention_mask,\n",
    "        max_length=150,\n",
    "        num_return_sequences=1,\n",
    "        pad_token_id=tokenizer.eos_token_id,\n",
    "        do_sample=True,\n",
    "        temperature=0.7,\n",
    "        top_p=0.9,\n",
    "        top_k=50,\n",
    "        repetition_penalty=2.0\n",
    "    )\n",
    "\n",
    "    generated_text = tokenizer.decode(outputs[0], skip_special_tokens=True)\n",
    "    return generated_text"
   ]
  },
  {
   "cell_type": "code",
   "execution_count": 7,
   "id": "b0ffa3f0",
   "metadata": {},
   "outputs": [],
   "source": [
    "def generate_text_openai(prompt):\n",
    "    openai.api_key = openai_api_key\n",
    "    response = openai.Completion.create(\n",
    "        engine=\"davinci-002\",\n",
    "        prompt=prompt,\n",
    "        max_tokens=50,\n",
    "        temperature=0.7,\n",
    "    )\n",
    "    return response.choices[0].text.strip()"
   ]
  },
  {
   "cell_type": "code",
   "execution_count": 8,
   "id": "ebd53900",
   "metadata": {},
   "outputs": [],
   "source": [
    "#grammar checks"
   ]
  },
  {
   "cell_type": "code",
   "execution_count": 9,
   "id": "5d152256",
   "metadata": {},
   "outputs": [],
   "source": [
    "def basic_grammar_check(text):\n",
    "    words = word_tokenize(text)\n",
    "    spell = nltk.corpus.words.words()\n",
    "    misspelled = [word for word in words if word.lower() not in spell]\n",
    "    return len(misspelled), misspelled"
   ]
  },
  {
   "cell_type": "code",
   "execution_count": 21,
   "id": "1d1e6933",
   "metadata": {},
   "outputs": [],
   "source": [
    "def flesch_reading_ease(text):\n",
    "    sentences = len(sent_tokenize(text))\n",
    "    words = len(word_tokenize(text))\n",
    "    syllables = sum([count_syllables(word) for word in word_tokenize(text)])\n",
    "    if sentences == 0 or words == 0:\n",
    "        return 0\n",
    "    asl = words / sentences\n",
    "    asw = syllables / words\n",
    "    score = 206.835 - (1.015 * asl) - (84.6 * asw)\n",
    "    return score"
   ]
  },
  {
   "cell_type": "code",
   "execution_count": 20,
   "id": "5ac1e97a",
   "metadata": {},
   "outputs": [],
   "source": [
    "def count_syllables(word):\n",
    "    return len(dic.inserted(word).split('-'))"
   ]
  },
  {
   "cell_type": "code",
   "execution_count": 11,
   "id": "ad710427",
   "metadata": {},
   "outputs": [],
   "source": [
    "def count_tokens(text):\n",
    "    tokens = word_tokenize(text)\n",
    "    return len(tokens)"
   ]
  },
  {
   "cell_type": "code",
   "execution_count": 12,
   "id": "aa563a44",
   "metadata": {},
   "outputs": [],
   "source": [
    "def count_sentences(text):\n",
    "    sentences = sent_tokenize(text)\n",
    "    return len(sentences)"
   ]
  },
  {
   "cell_type": "code",
   "execution_count": 13,
   "id": "7fc95d31",
   "metadata": {},
   "outputs": [],
   "source": [
    "def average_word_length(text):\n",
    "    words = word_tokenize(text)\n",
    "    return sum(len(word) for word in words) / len(words)"
   ]
  },
  {
   "cell_type": "code",
   "execution_count": 22,
   "id": "d8ad01fe",
   "metadata": {},
   "outputs": [],
   "source": [
    "prompt = \"Places to visit in summer\""
   ]
  },
  {
   "cell_type": "code",
   "execution_count": 23,
   "id": "64d05445",
   "metadata": {},
   "outputs": [
    {
     "name": "stdout",
     "output_type": "stream",
     "text": [
      "AI21 Studio:\n",
      "Generated Text: \n",
      "\n",
      "Summer is the perfect time to go on a vacation or weekend getaway. It's also a great time explore new places and try new things. If you're looking for some ideas, here are a few places to visit in the summer:\n",
      "\n",
      "1. Beaches: Beaches are a great choice for a summer vacation, as they offer plenty of sun, sand, and ocean breeze.\n",
      "2\n",
      "Grammar Issues: 20\n",
      "Readability Score: 91.21800000000002\n",
      "Token Count: 75\n",
      "Sentence Count: 5\n",
      "Average Word Length: 3.506666666666667\n",
      "\n"
     ]
    }
   ],
   "source": [
    "# AI21 Studio Evaluation\n",
    "try:\n",
    "    ai21_result = generate_text_ai21(prompt)\n",
    "    ai21_grammar_issues_count, ai21_grammar_issues = basic_grammar_check(ai21_result)\n",
    "    ai21_readability = flesch_reading_ease(ai21_result)\n",
    "    ai21_token_count = count_tokens(ai21_result)\n",
    "    ai21_sentence_count = count_sentences(ai21_result)\n",
    "    ai21_avg_word_length = average_word_length(ai21_result)\n",
    "    print(f\"AI21 Studio:\\nGenerated Text: {ai21_result}\\nGrammar Issues: {ai21_grammar_issues_count}\\nReadability Score: {ai21_readability}\\nToken Count: {ai21_token_count}\\nSentence Count: {ai21_sentence_count}\\nAverage Word Length: {ai21_avg_word_length}\\n\")\n",
    "except Exception as e:\n",
    "    print(f\"Error evaluating AI21 Studio: {e}\")"
   ]
  },
  {
   "cell_type": "code",
   "execution_count": 24,
   "id": "81069b24",
   "metadata": {},
   "outputs": [
    {
     "name": "stdout",
     "output_type": "stream",
     "text": [
      "Cohere:\n",
      "Generated Text: Here is a list of places to visit for a summer vacation:\n",
      "1. Paris: Paris in the summer is a popular choice for tourists. The weather is warm, and the city offers a wealth of cultural attractions, including museums, monuments, and\n",
      "Grammar Issues: 18\n",
      "Readability Score: 71.12605442176874\n",
      "Token Count: 49\n",
      "Sentence Count: 3\n",
      "Average Word Length: 3.857142857142857\n",
      "\n"
     ]
    }
   ],
   "source": [
    "# Cohere Evaluation\n",
    "try:\n",
    "    cohere_result = generate_text_cohere(prompt)\n",
    "    cohere_grammar_issues_count, cohere_grammar_issues = basic_grammar_check(cohere_result)\n",
    "    cohere_readability = flesch_reading_ease(cohere_result)\n",
    "    cohere_token_count = count_tokens(cohere_result)\n",
    "    cohere_sentence_count = count_sentences(cohere_result)\n",
    "    cohere_avg_word_length = average_word_length(cohere_result)\n",
    "    print(f\"Cohere:\\nGenerated Text: {cohere_result}\\nGrammar Issues: {cohere_grammar_issues_count}\\nReadability Score: {cohere_readability}\\nToken Count: {cohere_token_count}\\nSentence Count: {cohere_sentence_count}\\nAverage Word Length: {cohere_avg_word_length}\\n\")\n",
    "except Exception as e:\n",
    "    print(f\"Error evaluating Cohere: {e}\")"
   ]
  },
  {
   "cell_type": "code",
   "execution_count": 25,
   "id": "fe9710dc",
   "metadata": {},
   "outputs": [
    {
     "name": "stdout",
     "output_type": "stream",
     "text": [
      "Hugging Face:\n",
      "Generated Text: Places to visit in summer.\n",
      "\n",
      "\n",
      "\"This is a very beautiful place, I will be back soon,\" he said with confidence and dignity while standing beside the water at their new home for about 10 people on Friday morning.\"My husband was born there last year - it's been my life since that time so when we moved here from Mumbai two years ago (I'm living alone) this city has also given me an opportunity\", Prakash told NDTV after his family arrived today as part of 'The Year' festival organised by Dhananathaya Nagar Bhavan under section 2(2)(a).Pankaj Gupta says she went out looking forward because her house had recently come down hit hard which meant even more money needed\n",
      "Grammar Issues: 40\n",
      "Readability Score: 55.73040767386094\n",
      "Token Count: 139\n",
      "Sentence Count: 3\n",
      "Average Word Length: 3.964028776978417\n",
      "\n"
     ]
    }
   ],
   "source": [
    "# Hugging Face Evaluation\n",
    "try:\n",
    "    huggingface_result = generate_text_huggingface(prompt)\n",
    "    huggingface_grammar_issues_count, huggingface_grammar_issues = basic_grammar_check(huggingface_result)\n",
    "    huggingface_readability = flesch_reading_ease(huggingface_result)\n",
    "    huggingface_token_count = count_tokens(huggingface_result)\n",
    "    huggingface_sentence_count = count_sentences(huggingface_result)\n",
    "    huggingface_avg_word_length = average_word_length(huggingface_result)\n",
    "    print(f\"Hugging Face:\\nGenerated Text: {huggingface_result}\\nGrammar Issues: {huggingface_grammar_issues_count}\\nReadability Score: {huggingface_readability}\\nToken Count: {huggingface_token_count}\\nSentence Count: {huggingface_sentence_count}\\nAverage Word Length: {huggingface_avg_word_length}\\n\")\n",
    "except Exception as e:\n",
    "    print(f\"Error evaluating Hugging Face: {e}\")"
   ]
  },
  {
   "cell_type": "code",
   "execution_count": 26,
   "id": "3c692093",
   "metadata": {},
   "outputs": [
    {
     "name": "stdout",
     "output_type": "stream",
     "text": [
      "OpenAI:\n",
      "Generated Text: in the United States\n",
      "\n",
      "People often plan trips to the US in summer as they look to have a good time away from their regular lives. There are different places they can visit, depending on the things that they want to do. Here are some of\n",
      "Grammar Issues: 8\n",
      "Readability Score: 90.11789115646262\n",
      "Token Count: 49\n",
      "Sentence Count: 3\n",
      "Average Word Length: 3.857142857142857\n",
      "\n"
     ]
    }
   ],
   "source": [
    "# OpenAI Evaluation\n",
    "try:\n",
    "    openai_result = generate_text_openai(prompt)\n",
    "    openai_grammar_issues_count, openai_grammar_issues = basic_grammar_check(openai_result)\n",
    "    openai_readability = flesch_reading_ease(openai_result)\n",
    "    openai_token_count = count_tokens(openai_result)\n",
    "    openai_sentence_count = count_sentences(openai_result)\n",
    "    openai_avg_word_length = average_word_length(openai_result)\n",
    "    print(f\"OpenAI:\\nGenerated Text: {openai_result}\\nGrammar Issues: {openai_grammar_issues_count}\\nReadability Score: {openai_readability}\\nToken Count: {openai_token_count}\\nSentence Count: {openai_sentence_count}\\nAverage Word Length: {openai_avg_word_length}\\n\")\n",
    "except Exception as e:\n",
    "    print(f\"Error evaluating OpenAI: {e}\")"
   ]
  }
 ],
 "metadata": {
  "kernelspec": {
   "display_name": "Python 3 (ipykernel)",
   "language": "python",
   "name": "python3"
  },
  "language_info": {
   "codemirror_mode": {
    "name": "ipython",
    "version": 3
   },
   "file_extension": ".py",
   "mimetype": "text/x-python",
   "name": "python",
   "nbconvert_exporter": "python",
   "pygments_lexer": "ipython3",
   "version": "3.8.18"
  }
 },
 "nbformat": 4,
 "nbformat_minor": 5
}
