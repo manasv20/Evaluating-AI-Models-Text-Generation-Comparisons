{
 "cells": [
  {
   "cell_type": "code",
   "execution_count": 1,
   "id": "da77d703-ff2c-44a4-9979-205eba5c6462",
   "metadata": {
    "tags": []
   },
   "outputs": [],
   "source": [
    "import requests\n",
    "import cohere\n",
    "from transformers import pipeline, GPT2LMHeadModel, GPT2Tokenizer\n",
    "import openai"
   ]
  },
  {
   "cell_type": "markdown",
   "id": "70e79ba1-3ea3-4a3c-9877-8c38b6d0c919",
   "metadata": {},
   "source": [
    "API Keys"
   ]
  },
  {
   "cell_type": "code",
   "execution_count": 2,
   "id": "8ed14afd-e242-4161-adf5-5f8767ad1931",
   "metadata": {
    "tags": []
   },
   "outputs": [],
   "source": [
    "ai21_api_key = 'your-api-key'\n",
    "cohere_api_key = 'your-api-key'\n",
    "huggingface_api_key = 'your-api-key'\n",
    "openai_api_key = 'sk-proj-your-api-key'"
   ]
  },
  {
   "cell_type": "markdown",
   "id": "f4d7bf02-21c5-4322-80cc-04169e61698d",
   "metadata": {},
   "source": [
    "AI21 Studio"
   ]
  },
  {
   "cell_type": "code",
   "execution_count": 84,
   "id": "9471eb71-0fb7-4296-b9a5-6ebf9f51ea06",
   "metadata": {
    "tags": []
   },
   "outputs": [],
   "source": [
    "def generate_text_ai21(prompt):\n",
    "    url = \"https://api.ai21.com/studio/v1/j2-light/complete\"  \n",
    "    headers = {\n",
    "        \"Authorization\": f\"Bearer {ai21_api_key}\",\n",
    "        \"Content-Type\": \"application/json\"\n",
    "    }\n",
    "    data = {\n",
    "        \"prompt\": prompt,\n",
    "        \"numResults\": 1,\n",
    "        \"maxTokens\": 50,\n",
    "        \"temperature\": 0.7,\n",
    "        \"topKReturn\": 0,\n",
    "        \"topP\": 1,\n",
    "        \"stopSequences\": []\n",
    "    }\n",
    "    response = requests.post(url, headers=headers, json=data)\n",
    "    result = response.json()\n",
    "    return result['completions'][0]['data']['text']"
   ]
  },
  {
   "cell_type": "markdown",
   "id": "5735d74d-8f3e-41b0-8c65-33e6d39b04aa",
   "metadata": {},
   "source": [
    "Cohere"
   ]
  },
  {
   "cell_type": "code",
   "execution_count": 85,
   "id": "5ce65de6-ec99-4173-9fc2-b9eb89d0ecd8",
   "metadata": {
    "tags": []
   },
   "outputs": [],
   "source": [
    "def generate_text_cohere(prompt):\n",
    "    co = cohere.Client(cohere_api_key)\n",
    "    response = co.generate(\n",
    "        model='command-xlarge-nightly',\n",
    "        prompt=prompt,\n",
    "        max_tokens=50,\n",
    "        temperature=0.7,\n",
    "        k=0,\n",
    "        p=1,\n",
    "        stop_sequences=[]\n",
    "    )\n",
    "    return response.generations[0].text.strip()"
   ]
  },
  {
   "cell_type": "markdown",
   "id": "b1ed3057-6728-45e1-b4d2-ca4c8b136bed",
   "metadata": {},
   "source": [
    "Hugging Face"
   ]
  },
  {
   "cell_type": "code",
   "execution_count": 92,
   "id": "915bff48-7378-4f05-9a80-c0046217358e",
   "metadata": {
    "tags": []
   },
   "outputs": [],
   "source": [
    "def generate_text_huggingface(prompt):\n",
    "    model = GPT2LMHeadModel.from_pretrained('gpt2')  \n",
    "    tokenizer = GPT2Tokenizer.from_pretrained('gpt2')\n",
    "\n",
    "    tokenizer.pad_token = tokenizer.eos_token\n",
    "\n",
    "    inputs = tokenizer(prompt, return_tensors='pt', padding=True, truncation=True)\n",
    "    input_ids = inputs['input_ids']\n",
    "    attention_mask = inputs['attention_mask']\n",
    "\n",
    "    print(\"Input IDs:\", input_ids)\n",
    "    print(\"Attention Mask:\", attention_mask)\n",
    "\n",
    "    outputs = model.generate(\n",
    "        input_ids=input_ids,\n",
    "        attention_mask=attention_mask,\n",
    "        max_length=150,  \n",
    "        num_return_sequences=1,\n",
    "        pad_token_id=tokenizer.eos_token_id,\n",
    "        do_sample=True, \n",
    "        temperature=0.7,\n",
    "        top_p=0.9,  \n",
    "        top_k=50,   \n",
    "        repetition_penalty=2.0  \n",
    "    )\n",
    "\n",
    "   \n",
    "    print(\"Outputs:\", outputs)\n",
    "\n",
    "    generated_text = tokenizer.decode(outputs[0], skip_special_tokens=True)\n",
    "    return generated_text"
   ]
  },
  {
   "cell_type": "markdown",
   "id": "13d3bf24-6222-428d-ac36-f14e145e837a",
   "metadata": {},
   "source": [
    "OpenAI"
   ]
  },
  {
   "cell_type": "code",
   "execution_count": 89,
   "id": "11f23931-a2b6-4062-806a-da4a66d9f97c",
   "metadata": {
    "tags": []
   },
   "outputs": [],
   "source": [
    "def generate_text_openai(prompt):\n",
    "    openai.api_key = openai_api_key\n",
    "    response = openai.Completion.create(\n",
    "        engine=\"davinci-002\",\n",
    "        prompt=prompt,\n",
    "        max_tokens=50,\n",
    "        temperature=0.7,\n",
    "    )\n",
    "    return response.choices[0].text.strip()"
   ]
  },
  {
   "cell_type": "markdown",
   "id": "3dd2c16c-f430-4cfd-b3f9-595f931a9d10",
   "metadata": {},
   "source": [
    "Prompt for generation"
   ]
  },
  {
   "cell_type": "code",
   "execution_count": 94,
   "id": "7f2c69a6-d717-4640-9566-57d05da45a76",
   "metadata": {
    "tags": []
   },
   "outputs": [],
   "source": [
    "prompt = \"Places to visit in summer\""
   ]
  },
  {
   "cell_type": "code",
   "execution_count": 95,
   "id": "dd13bea0-6aca-4680-955d-ff579ef5b468",
   "metadata": {
    "tags": []
   },
   "outputs": [
    {
     "name": "stdout",
     "output_type": "stream",
     "text": [
      "AI21 Studio:\n",
      "\n",
      "\n",
      "Summer is the perfect time to take a break and relax. It's also a great time to explore new places, whether that means visiting a new city or spending time at a beach. Here are a few of the best places to visit in summer:\n",
      "\n",
      "1. New York City: New York City is a bustling metropolis and home to some of the best culture and nightlife in the world. Be sure to check out the Central Park,\n"
     ]
    }
   ],
   "source": [
    "print(\"AI21 Studio:\")\n",
    "print(generate_text_ai21(prompt))"
   ]
  },
  {
   "cell_type": "code",
   "execution_count": 96,
   "id": "c6e19665-134b-4bf0-b64b-ba8643f60dc6",
   "metadata": {
    "tags": []
   },
   "outputs": [
    {
     "name": "stdout",
     "output_type": "stream",
     "text": [
      "\n",
      "Cohere:\n",
      "Summer is a great time to visit many places around the world, here are a few suggestions:\n",
      "\n",
      "1. The Mediterranean: With its warm climate, beautiful beaches, and rich cultural history, the Mediterranean is a great place to visit in the summer.\n"
     ]
    }
   ],
   "source": [
    "print(\"\\nCohere:\")\n",
    "print(generate_text_cohere(prompt))"
   ]
  },
  {
   "cell_type": "code",
   "execution_count": 97,
   "id": "83ee9836-21fa-4a6e-9474-7646ac66f7d6",
   "metadata": {
    "tags": []
   },
   "outputs": [
    {
     "name": "stdout",
     "output_type": "stream",
     "text": [
      "\n",
      "Hugging Face:\n",
      "Input IDs: tensor([[3646, 2114,  284, 3187,  287, 3931]])\n",
      "Attention Mask: tensor([[1, 1, 1, 1, 1, 1]])\n",
      "Outputs: tensor([[ 3646,  2114,   284,  3187,   287,  3931,  2435,   198,   464,  1353,\n",
      "           286,   262,  1351,   329,  1584,   373,   968,  1971,  2254,    13,\n",
      "          3574,  2805,   352,   301,  1566,  2795,  1542,   400,    11,   356,\n",
      "           423,   257,  3748,  7269,   326,   481,  1577,   345,   617,  1049,\n",
      "          4113,   407,  1043,   319,   584,  4736,   588,  9371,   393,  4842,\n",
      "           523,   651,   534,  7846,   783,     0,  3954,  2177,  1622,   318,\n",
      "           994,   290,   611,   477,  2925,   880,   788,   612,  1839,   470,\n",
      "           307,   597, 24072,  2406,   510,   379,   428,   640,   355,   749,\n",
      "         22276,   389,  1280,   422,  3035,   832,  3267,  1853,   618,   674,\n",
      "          2864,  1785,  6140,   357,  4758,   815, 37319,   351,  2932,   338,\n",
      "          2650,   737,   383,   691,  6631,   561,  1884,   852,  8857,   810,\n",
      "           340,   468,   587,  4999,  1141, 10216, 12243,  1946,   416,   281,\n",
      "          1743,  3052, 13487,   366,    47, 13561,   259,  3337,     1,   475,\n",
      "          1201,   867,   661,   547,  6655,  2233,   511,  3092, 15370,   314,\n",
      "           716,  7787,   484,   743,   991,  2152,   772,   996,   777,  9667]])\n",
      "Places to visit in summertime\n",
      "The top of the list for 2016 was New York City. From March 1st until June 30th, we have a unique schedule that will give you some great places not found on other cities like Atlanta or Chicago so get your ticket now! Our 2017 season is here and if all goes well then there won't be any surprises coming up at this time as most venues are open from April through October 2015 when our 2018 event begins (which should coincide with August's release). The only exception would likely being Philadelphia where it has been confirmed during Summer Break 2014 by an official website listing \"Penguin Center\" but since many people were surprised due their lack thereof I am afraid they may still exist even though these dates\n"
     ]
    }
   ],
   "source": [
    "print(\"\\nHugging Face:\")\n",
    "print(generate_text_huggingface(prompt))"
   ]
  },
  {
   "cell_type": "code",
   "execution_count": 98,
   "id": "afd81955-4222-4e06-96b4-335a0383ba76",
   "metadata": {
    "tags": []
   },
   "outputs": [
    {
     "name": "stdout",
     "output_type": "stream",
     "text": [
      "\n",
      "OpenAI:\n",
      "The best beaches in Mallorca\n",
      "\n",
      "The most beautiful places in Mallorca\n",
      "\n",
      "The best places for hikes in Mallorca\n",
      "\n",
      "The most beautiful bays in Mallorca\n",
      "\n",
      "The most beautiful bays in Spain\n",
      "\n",
      "The best ports in Mallorca\n",
      "\n",
      "The\n"
     ]
    }
   ],
   "source": [
    "print(\"\\nOpenAI:\")\n",
    "print(generate_text_openai(prompt))"
   ]
  }
 ],
 "metadata": {
  "kernelspec": {
   "display_name": "Python 3 (ipykernel)",
   "language": "python",
   "name": "python3"
  },
  "language_info": {
   "codemirror_mode": {
    "name": "ipython",
    "version": 3
   },
   "file_extension": ".py",
   "mimetype": "text/x-python",
   "name": "python",
   "nbconvert_exporter": "python",
   "pygments_lexer": "ipython3",
   "version": "3.8.18"
  }
 },
 "nbformat": 4,
 "nbformat_minor": 5
}
